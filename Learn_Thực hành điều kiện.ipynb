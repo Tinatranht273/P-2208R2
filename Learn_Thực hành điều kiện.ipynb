{
 "cells": [
  {
   "cell_type": "markdown",
   "id": "14baacbd",
   "metadata": {},
   "source": [
    "### Thực hành vẽ hình và tô màu theo lựa chọn"
   ]
  },
  {
   "cell_type": "code",
   "execution_count": 3,
   "id": "388e2b65",
   "metadata": {
    "scrolled": true
   },
   "outputs": [
    {
     "name": "stdout",
     "output_type": "stream",
     "text": [
      "Circle and square, what is your favorite shape?: square\n",
      "What color will it be? yellow, red or blue?:yellow\n"
     ]
    }
   ],
   "source": [
    "import turtle \n",
    "shapeInput = input('Circle and square, what is your favorite shape?: ')\n",
    "\n",
    "\n",
    "if shapeInput == 'circle' or shapeInput == 'square':\n",
    "    colorInput = input('What color will it be? yellow, red or blue?:')\n",
    "    if colorInput == 'yellow' or colorInput == 'red' or colorInput == 'blue':\n",
    "        wn = turtle.Screen()\n",
    "        wn.bgcolor(\"black\")\n",
    "        wn.title(\"Your shape\")\n",
    "        \n",
    "        displayShape = turtle.Turtle()\n",
    "        displayShape.shape(shapeInput)\n",
    "        displayShape.color(colorInput)\n",
    "        \n",
    "        turtle.done()\n",
    "    else:\n",
    "        print(\"Sorry I don't have this color.\")\n",
    "else: \n",
    "    print(\"Sorry, I don't have this shape.\")\n",
    "    "
   ]
  },
  {
   "cell_type": "markdown",
   "id": "77266d1b",
   "metadata": {},
   "source": [
    "### Thực hành tô màu hình"
   ]
  },
  {
   "cell_type": "code",
   "execution_count": 1,
   "id": "535b9ea3",
   "metadata": {},
   "outputs": [],
   "source": [
    "import turtle \n",
    "import random\n",
    "\n",
    "number = random.uniform(0,3)\n",
    "a = int(number)\n",
    "\n",
    "wn = turtle.Screen()\n",
    "wn.bgcolor(\"black\")\n",
    "wn.title(\"Circle\")\n",
    "\n",
    "pen = turtle.Turtle()\n",
    "pen.shape(\"circle\")\n",
    "\n",
    "if a < 1: \n",
    "    pen.color(\"blue\")\n",
    "elif a < 2:\n",
    "    pen.color(\"yellow\")\n",
    "else:\n",
    "    pen.color(\"red\")\n",
    "    \n",
    "turtle.done()\n"
   ]
  },
  {
   "cell_type": "markdown",
   "id": "062e0f6c",
   "metadata": {},
   "source": [
    "### Thực hành luyện tập toán tử ba ngôi"
   ]
  },
  {
   "cell_type": "code",
   "execution_count": 4,
   "id": "1411297c",
   "metadata": {
    "scrolled": true
   },
   "outputs": [
    {
     "name": "stdout",
     "output_type": "stream",
     "text": [
      "Enter n: 5\n",
      "5 is an odd number\n"
     ]
    }
   ],
   "source": [
    "# Nhập vào một số nguyên bất kỳ, kiểm tra xem số đó là số chẵn hay số lẻ\n",
    "\n",
    "n = int(input(\"Enter n: \"))\n",
    "if n % 2 == 0:\n",
    "    print(f'{n} is an even number')\n",
    "else:\n",
    "    print(f'{n} is an odd number')"
   ]
  },
  {
   "cell_type": "markdown",
   "id": "3ccbdb9e",
   "metadata": {},
   "source": [
    "### Thực hành hiển thị ngày trong tuần"
   ]
  },
  {
   "cell_type": "code",
   "execution_count": 8,
   "id": "5c3233b5",
   "metadata": {
    "scrolled": true
   },
   "outputs": [
    {
     "name": "stdout",
     "output_type": "stream",
     "text": [
      "Enter a number (from 1 to 7): 1\n",
      "Today is Monday\n"
     ]
    }
   ],
   "source": [
    "# Nhập vào số phạm phi từ 1 đến 7 và hiển thị ngày trong tuần tương ứng\n",
    "\n",
    "day = int(input(\"Enter a number (from 1 to 7): \"))\n",
    "if day == 1:\n",
    "    print('Today is Monday')\n",
    "elif day == 2:\n",
    "    print('Today is Tuesday')\n",
    "elif day == 3:\n",
    "    print('Today is Wednesday')\n",
    "elif day == 4:\n",
    "    print('Today is Thursday')\n",
    "elif day == 5:\n",
    "    print('Today is Friday')\n",
    "elif day == 6:\n",
    "    print('Today is Saturday')\n",
    "elif day == 7:\n",
    "    print('Today is Sunday')\n",
    "else:\n",
    "    print(\"Error! Out of range\")"
   ]
  },
  {
   "cell_type": "markdown",
   "id": "567af6f6",
   "metadata": {},
   "source": [
    "### Thực hành hiển thị thông tin đơn hàng"
   ]
  },
  {
   "cell_type": "code",
   "execution_count": null,
   "id": "80c8a9d5",
   "metadata": {},
   "outputs": [],
   "source": []
  }
 ],
 "metadata": {
  "kernelspec": {
   "display_name": "Python 3 (ipykernel)",
   "language": "python",
   "name": "python3"
  },
  "language_info": {
   "codemirror_mode": {
    "name": "ipython",
    "version": 3
   },
   "file_extension": ".py",
   "mimetype": "text/x-python",
   "name": "python",
   "nbconvert_exporter": "python",
   "pygments_lexer": "ipython3",
   "version": "3.10.7"
  }
 },
 "nbformat": 4,
 "nbformat_minor": 5
}
