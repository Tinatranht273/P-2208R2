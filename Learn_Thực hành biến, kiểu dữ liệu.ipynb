{
 "cells": [
  {
   "cell_type": "markdown",
   "id": "06a07edf",
   "metadata": {},
   "source": [
    "### Thực hành tính diện tích hình tam giác"
   ]
  },
  {
   "cell_type": "code",
   "execution_count": 3,
   "id": "fafa1c91",
   "metadata": {
    "scrolled": true
   },
   "outputs": [
    {
     "name": "stdout",
     "output_type": "stream",
     "text": [
      "Enter the length of side a: 4\n",
      "Enter the length of side b: 6\n",
      "Enter the length of side c: 7\n",
      "Area of the triangle is: 11.976539567003485\n"
     ]
    }
   ],
   "source": [
    "import math\n",
    "\n",
    "a = float(input(\"Enter the length of side a: \"))\n",
    "b = float(input(\"Enter the length of side b: \"))\n",
    "c = float(input(\"Enter the length of side c: \"))\n",
    "\n",
    "s = (a+b+c)/2\n",
    "area = math.sqrt(s*(s-a)*(s-b)*(s-c))\n",
    "\n",
    "print(f'Area of the triangle is: {area}')"
   ]
  },
  {
   "cell_type": "markdown",
   "id": "4200d938",
   "metadata": {},
   "source": [
    "### Chuyển đổi nhiệt độ"
   ]
  },
  {
   "cell_type": "code",
   "execution_count": 6,
   "id": "209feb8b",
   "metadata": {},
   "outputs": [
    {
     "name": "stdout",
     "output_type": "stream",
     "text": [
      "Enter the temperature in degree Celcius: 6\n",
      "6.0 degree Celcius is equivalent to 42.8 degree Farenheit\n"
     ]
    }
   ],
   "source": [
    "c = float(input(\"Enter the temperature in degree Celcius: \"))\n",
    "f = (9*c/5)+32\n",
    "print(f'{c} degree Celcius is equivalent to {f} degree Farenheit')"
   ]
  }
 ],
 "metadata": {
  "kernelspec": {
   "display_name": "Python 3 (ipykernel)",
   "language": "python",
   "name": "python3"
  },
  "language_info": {
   "codemirror_mode": {
    "name": "ipython",
    "version": 3
   },
   "file_extension": ".py",
   "mimetype": "text/x-python",
   "name": "python",
   "nbconvert_exporter": "python",
   "pygments_lexer": "ipython3",
   "version": "3.10.7"
  }
 },
 "nbformat": 4,
 "nbformat_minor": 5
}
