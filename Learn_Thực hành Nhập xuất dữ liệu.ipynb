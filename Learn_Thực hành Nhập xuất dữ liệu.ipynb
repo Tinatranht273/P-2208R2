{
 "cells": [
  {
   "cell_type": "markdown",
   "id": "39feb151",
   "metadata": {},
   "source": [
    "### Thực hành ứng dụng chuyển đổi tiền tệ"
   ]
  },
  {
   "cell_type": "code",
   "execution_count": 3,
   "id": "5db44055",
   "metadata": {},
   "outputs": [
    {
     "name": "stdout",
     "output_type": "stream",
     "text": [
      "Enter amount in USD: 24.5\n",
      "Enter USD/VND exchange rate: 23000\n",
      "24.5 USD is equivalent to 563500.0 VND\n"
     ]
    }
   ],
   "source": [
    "usd = float(input(\"Enter amount in USD: \"))\n",
    "exrate = float(input(\"Enter USD/VND exchange rate: \"))\n",
    "vnd = usd*exrate\n",
    "print(f'{usd} USD is equivalent to {vnd} VND')"
   ]
  }
 ],
 "metadata": {
  "kernelspec": {
   "display_name": "Python 3 (ipykernel)",
   "language": "python",
   "name": "python3"
  },
  "language_info": {
   "codemirror_mode": {
    "name": "ipython",
    "version": 3
   },
   "file_extension": ".py",
   "mimetype": "text/x-python",
   "name": "python",
   "nbconvert_exporter": "python",
   "pygments_lexer": "ipython3",
   "version": "3.10.7"
  }
 },
 "nbformat": 4,
 "nbformat_minor": 5
}
